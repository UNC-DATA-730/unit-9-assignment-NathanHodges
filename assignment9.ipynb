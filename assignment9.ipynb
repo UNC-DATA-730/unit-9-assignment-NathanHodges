{
 "cells": [
  {
   "cell_type": "markdown",
   "id": "fe67a362-1670-4664-8c82-116e35bda7bb",
   "metadata": {},
   "source": [
    "**Relevant reading for this problem set**:\n",
    "<a href=\"https://moderndive.com/9-hypothesis-testing.html\"\n",
    "target=\"_blank\">ModernDive Chapter 9: Hypothesis Testing</a>."
   ]
  },
  {
   "cell_type": "markdown",
   "id": "a2c81b92-efa7-4f83-a059-a0081900ee4e",
   "metadata": {},
   "source": [
    "First load the necessary packages:"
   ]
  },
  {
   "cell_type": "code",
   "execution_count": 1,
   "id": "ea87212e-636e-469a-bb9a-717ff7ae825e",
   "metadata": {
    "tags": []
   },
   "outputs": [
    {
     "name": "stderr",
     "output_type": "stream",
     "text": [
      "── \u001b[1mAttaching core tidyverse packages\u001b[22m ──────────────────────────────────────────────────────────────── tidyverse 2.0.0 ──\n",
      "\u001b[32m✔\u001b[39m \u001b[34mdplyr    \u001b[39m 1.1.4     \u001b[32m✔\u001b[39m \u001b[34mreadr    \u001b[39m 2.1.5\n",
      "\u001b[32m✔\u001b[39m \u001b[34mforcats  \u001b[39m 1.0.0     \u001b[32m✔\u001b[39m \u001b[34mstringr  \u001b[39m 1.5.1\n",
      "\u001b[32m✔\u001b[39m \u001b[34mggplot2  \u001b[39m 3.4.4     \u001b[32m✔\u001b[39m \u001b[34mtibble   \u001b[39m 3.2.1\n",
      "\u001b[32m✔\u001b[39m \u001b[34mlubridate\u001b[39m 1.9.3     \u001b[32m✔\u001b[39m \u001b[34mtidyr    \u001b[39m 1.3.1\n",
      "\u001b[32m✔\u001b[39m \u001b[34mpurrr    \u001b[39m 1.0.2     \n",
      "── \u001b[1mConflicts\u001b[22m ────────────────────────────────────────────────────────────────────────────────── tidyverse_conflicts() ──\n",
      "\u001b[31m✖\u001b[39m \u001b[34mdplyr\u001b[39m::\u001b[32mfilter()\u001b[39m masks \u001b[34mstats\u001b[39m::filter()\n",
      "\u001b[31m✖\u001b[39m \u001b[34mdplyr\u001b[39m::\u001b[32mlag()\u001b[39m    masks \u001b[34mstats\u001b[39m::lag()\n",
      "\u001b[36mℹ\u001b[39m Use the conflicted package (\u001b[3m\u001b[34m<http://conflicted.r-lib.org/>\u001b[39m\u001b[23m) to force all conflicts to become errors\n"
     ]
    }
   ],
   "source": [
    "library('tidyverse')\n",
    "library('infer')"
   ]
  },
  {
   "cell_type": "markdown",
   "id": "7f622954-509a-4009-961b-417a61f5b2de",
   "metadata": {},
   "source": [
    "For this Problem Set you will work with some grade-point-average (GPA)\n",
    "data for college freshman. The following will read in the data:"
   ]
  },
  {
   "cell_type": "code",
   "execution_count": 2,
   "id": "6c1ee55a-cbbd-4f35-a0df-55a6bf8a71ef",
   "metadata": {
    "tags": []
   },
   "outputs": [
    {
     "name": "stderr",
     "output_type": "stream",
     "text": [
      "\u001b[1m\u001b[22mNew names:\n",
      "\u001b[36m•\u001b[39m `` -> `...1`\n"
     ]
    },
    {
     "name": "stdout",
     "output_type": "stream",
     "text": [
      "Rows: 1,000\n",
      "Columns: 6\n",
      "$ sex        \u001b[3m\u001b[90m<chr>\u001b[39m\u001b[23m \"Male\", \"Female\", \"Female\", \"Male\", \"Male\", \"Female\", \"Male…\n",
      "$ sat_verbal \u001b[3m\u001b[90m<dbl>\u001b[39m\u001b[23m 65, 58, 56, 42, 55, 55, 57, 53, 67, 41, 58, 45, 43, 50, 54,…\n",
      "$ sat_math   \u001b[3m\u001b[90m<dbl>\u001b[39m\u001b[23m 62, 64, 60, 53, 52, 56, 65, 62, 77, 44, 70, 57, 45, 58, 66,…\n",
      "$ sat_total  \u001b[3m\u001b[90m<dbl>\u001b[39m\u001b[23m 127, 122, 116, 95, 107, 111, 122, 115, 144, 85, 128, 102, 8…\n",
      "$ gpa_hs     \u001b[3m\u001b[90m<chr>\u001b[39m\u001b[23m \"high\", \"high\", \"high\", \"high\", \"high\", \"high\", \"low\", \"hig…\n",
      "$ gpa_fy     \u001b[3m\u001b[90m<dbl>\u001b[39m\u001b[23m 3.18, 3.33, 3.25, 2.42, 2.63, 2.91, 2.83, 2.51, 3.82, 2.54,…\n"
     ]
    }
   ],
   "source": [
    "sat_gpa = read_csv(\"https://rudeboybert.github.io/SDS220/static/PS/sat_gpa.csv\", col_types = cols(), col_select = c(-1))\n",
    "\n",
    "sat_gpa |> glimpse()"
   ]
  },
  {
   "cell_type": "markdown",
   "id": "9225e401-d91a-4271-b5bf-e665b628c731",
   "metadata": {},
   "source": [
    "Each row or case in this data frame is a student. The data includes:\n",
    "\n",
    "-   the (binary) gender of each student\n",
    "-   the math, verbal and total SAT scores for each student\n",
    "-   the GPA range of each student in high school (categorized as “low”\n",
    "    or “high”)\n",
    "-   the GPA of each student their first year of college on a numeric\n",
    "    scale.\n",
    "\n",
    "We will use hypothesis testing to answer the following questions:\n",
    "\n",
    "1.  Is there a difference in male and female freshman GPAs?\n",
    "2.  Is there a difference in total SAT score for students with a “low”\n",
    "    and “high” high-school GPA?\n",
    "\n",
    "Note, if you get stuck as you are working through this, it will be\n",
    "helpful to review Chapter 9 in ModernDive."
   ]
  },
  {
   "cell_type": "markdown",
   "id": "9f92af32-b0cf-40ab-b24a-3de2b1ac2ea4",
   "metadata": {},
   "source": [
    "## Question 1: Gender differences in first-year GPA?\n",
    "\n",
    "For this question, let’s use a pre-determined $\\alpha$\n",
    "significance-level of 0.05."
   ]
  },
  {
   "cell_type": "markdown",
   "id": "72a83931-3db6-4889-a7bb-22294b6be924",
   "metadata": {},
   "source": [
    "## Q1.a)\n",
    "\n",
    "Calculate the mean GPA score for each gender, using the `group_by` and\n",
    "`summarize` commands from the `dplyr` package."
   ]
  },
  {
   "cell_type": "code",
   "execution_count": 3,
   "id": "bb4f463d-0010-4ae6-b40c-69be81c698e8",
   "metadata": {
    "tags": []
   },
   "outputs": [
    {
     "data": {
      "text/html": [
       "<table class=\"dataframe\">\n",
       "<caption>A tibble: 2 × 2</caption>\n",
       "<thead>\n",
       "\t<tr><th scope=col>sex</th><th scope=col>mean_gpa</th></tr>\n",
       "\t<tr><th scope=col>&lt;chr&gt;</th><th scope=col>&lt;dbl&gt;</th></tr>\n",
       "</thead>\n",
       "<tbody>\n",
       "\t<tr><td>Female</td><td>2.544587</td></tr>\n",
       "\t<tr><td>Male  </td><td>2.396066</td></tr>\n",
       "</tbody>\n",
       "</table>\n"
      ],
      "text/latex": [
       "A tibble: 2 × 2\n",
       "\\begin{tabular}{ll}\n",
       " sex & mean\\_gpa\\\\\n",
       " <chr> & <dbl>\\\\\n",
       "\\hline\n",
       "\t Female & 2.544587\\\\\n",
       "\t Male   & 2.396066\\\\\n",
       "\\end{tabular}\n"
      ],
      "text/markdown": [
       "\n",
       "A tibble: 2 × 2\n",
       "\n",
       "| sex &lt;chr&gt; | mean_gpa &lt;dbl&gt; |\n",
       "|---|---|\n",
       "| Female | 2.544587 |\n",
       "| Male   | 2.396066 |\n",
       "\n"
      ],
      "text/plain": [
       "  sex    mean_gpa\n",
       "1 Female 2.544587\n",
       "2 Male   2.396066"
      ]
     },
     "metadata": {},
     "output_type": "display_data"
    }
   ],
   "source": [
    "sat_gpa |>\n",
    "group_by(sex) |> \n",
    "summarize(mean_gpa = mean(gpa_fy))"
   ]
  },
  {
   "cell_type": "markdown",
   "id": "ee8939f6-1b00-45ee-9e83-9c47f63d138b",
   "metadata": {},
   "source": [
    "**Questions**:\n",
    "\n",
    "1.  What is the difference in sample mean GPA’s?\n",
    "2.  Make a guess: is this difference statistically significant?\n",
    "\n",
    "**Answers**:\n",
    "\n",
    "1.  The difference is about .14 gpa. \n",
    "2.  I would guess that there is a statistical signigicant difference in these metrics. "
   ]
  },
  {
   "cell_type": "markdown",
   "id": "13e9ee4c-704e-4da6-a3f2-7e6cc19b3912",
   "metadata": {},
   "source": [
    "## Q1.b)\n",
    "\n",
    "Generate a data visualization that displays the GPAs of the two groups.\n",
    "Be sure to include a title and label your axes."
   ]
  },
  {
   "cell_type": "code",
   "execution_count": 4,
   "id": "e4ea20bd-e833-49b8-b6b8-39997cafdff3",
   "metadata": {
    "tags": []
   },
   "outputs": [
    {
     "data": {
      "image/png": "[encoded data removed]",
      "text/plain": [
       "plot without title"
      ]
     },
     "metadata": {
      "image/png": {
       "height": 500,
       "width": 625
      }
     },
     "output_type": "display_data"
    }
   ],
   "source": [
    "ggplot(sat_gpa, mapping = aes(x = gpa_fy, color = sex)) +\n",
    "  geom_histogram(binwidth = 0.1, boundary=0) +\n",
    "  facet_wrap(~sex, ncol = 2, scales = 'free_x') +\n",
    "  labs(title = \"Hisogram of GPA by Sex\",\n",
    "       x = \"gpa\",\n",
    "       y = \"value count\")"
   ]
  },
  {
   "cell_type": "markdown",
   "id": "f3a0cc05-c036-4fe3-8c7d-a5dee3db4ec7",
   "metadata": {},
   "source": [
    "## Stating a null hypothesis\n",
    "\n",
    "We will now test the null hypothesis that there’s no difference in\n",
    "population mean GPA between the genders at the population level. We can\n",
    "write this out in mathematical notation\n",
    "\n",
    "$$\\begin{aligned} H_0:&\\mu_{female} = \\mu_{male} \\\\\\ \\mbox{vs }H_A:& \\mu_{female} \\neq \\mu_{male} \\end{aligned}$$\n",
    "\n",
    "or expressed differently, that the difference is 0 or not:\n",
    "\n",
    "$$\\begin{aligned} H_0:&\\mu_{female} - \\mu_{male} = 0 \\\\\\ \\mbox{vs }H_A:& \\mu_{female} - \\mu_{male} \\neq 0 \\end{aligned}$$\n",
    "\n",
    "## Testing the hypothesis\n",
    "\n",
    "Here’s how we use the `infer` package to conduct this hypothesis test:\n",
    "\n",
    "### Step 1: Calculate the observed difference\n",
    "\n",
    "Note that the order we choose does not matter here (female then\n",
    "male)…but since we used `order = c(\"Female\", \"Male\")` here, we should do\n",
    "the same in subsequent calculations!"
   ]
  },
  {
   "cell_type": "code",
   "execution_count": 5,
   "id": "425a7d37-ae9a-43f0-8fff-326ba0d32b91",
   "metadata": {
    "tags": []
   },
   "outputs": [
    {
     "data": {
      "text/html": [
       "<table class=\"dataframe\">\n",
       "<caption>A infer: 1 × 1</caption>\n",
       "<thead>\n",
       "\t<tr><th scope=col>stat</th></tr>\n",
       "\t<tr><th scope=col>&lt;dbl&gt;</th></tr>\n",
       "</thead>\n",
       "<tbody>\n",
       "\t<tr><td>0.1485209</td></tr>\n",
       "</tbody>\n",
       "</table>\n"
      ],
      "text/latex": [
       "A infer: 1 × 1\n",
       "\\begin{tabular}{l}\n",
       " stat\\\\\n",
       " <dbl>\\\\\n",
       "\\hline\n",
       "\t 0.1485209\\\\\n",
       "\\end{tabular}\n"
      ],
      "text/markdown": [
       "\n",
       "A infer: 1 × 1\n",
       "\n",
       "| stat &lt;dbl&gt; |\n",
       "|---|\n",
       "| 0.1485209 |\n",
       "\n"
      ],
      "text/plain": [
       "  stat     \n",
       "1 0.1485209"
      ]
     },
     "metadata": {},
     "output_type": "display_data"
    }
   ],
   "source": [
    "obs_diff_gpa_sex = sat_gpa |>\n",
    "  specify(gpa_fy ~ sex) |>\n",
    "  calculate(stat = \"diff in means\", order = c(\"Female\", \"Male\"))\n",
    "\n",
    "obs_diff_gpa_sex"
   ]
  },
  {
   "cell_type": "markdown",
   "id": "d7ac9575-adf1-416f-9106-b44e784cf6c4",
   "metadata": {},
   "source": [
    "Note that this is the difference in the group means we calculated\n",
    "earlier!"
   ]
  },
  {
   "cell_type": "code",
   "execution_count": 6,
   "id": "84bc94e1-5a73-4184-9e9e-2aeb876d491e",
   "metadata": {
    "tags": []
   },
   "outputs": [
    {
     "data": {
      "text/html": [
       "0.148521"
      ],
      "text/latex": [
       "0.148521"
      ],
      "text/markdown": [
       "0.148521"
      ],
      "text/plain": [
       "[1] 0.148521"
      ]
     },
     "metadata": {},
     "output_type": "display_data"
    }
   ],
   "source": [
    "2.544587 - 2.396066"
   ]
  },
  {
   "cell_type": "markdown",
   "id": "dba4fcc1-4a9b-47ce-a215-a45870f3eb29",
   "metadata": {},
   "source": [
    "### Step 2. Generate the null distribution of $\\delta$\n",
    "\n",
    "This step involves generating simulated values *as if* we lived in a\n",
    "world where there’s no difference between the two groups. Going back to\n",
    "the idea of permutation, and tactile sampling, this is akin to shuffling\n",
    "the GPA scores between male and female labels (i.e. removing the\n",
    "structure to the data) just as we could have done with index cards."
   ]
  },
  {
   "cell_type": "code",
   "execution_count": 7,
   "id": "019aca26-2e52-4b23-bd74-b08ffc3390b0",
   "metadata": {
    "tags": []
   },
   "outputs": [
    {
     "data": {
      "text/html": [
       "<table class=\"dataframe\">\n",
       "<caption>A grouped_df: 6 × 3</caption>\n",
       "<thead>\n",
       "\t<tr><th scope=col>gpa_fy</th><th scope=col>sex</th><th scope=col>replicate</th></tr>\n",
       "\t<tr><th scope=col>&lt;dbl&gt;</th><th scope=col>&lt;fct&gt;</th><th scope=col>&lt;int&gt;</th></tr>\n",
       "</thead>\n",
       "<tbody>\n",
       "\t<tr><td>2.51</td><td>Male  </td><td>1</td></tr>\n",
       "\t<tr><td>2.16</td><td>Female</td><td>1</td></tr>\n",
       "\t<tr><td>1.19</td><td>Female</td><td>1</td></tr>\n",
       "\t<tr><td>1.78</td><td>Male  </td><td>1</td></tr>\n",
       "\t<tr><td>1.90</td><td>Male  </td><td>1</td></tr>\n",
       "\t<tr><td>3.19</td><td>Female</td><td>1</td></tr>\n",
       "</tbody>\n",
       "</table>\n"
      ],
      "text/latex": [
       "A grouped\\_df: 6 × 3\n",
       "\\begin{tabular}{lll}\n",
       " gpa\\_fy & sex & replicate\\\\\n",
       " <dbl> & <fct> & <int>\\\\\n",
       "\\hline\n",
       "\t 2.51 & Male   & 1\\\\\n",
       "\t 2.16 & Female & 1\\\\\n",
       "\t 1.19 & Female & 1\\\\\n",
       "\t 1.78 & Male   & 1\\\\\n",
       "\t 1.90 & Male   & 1\\\\\n",
       "\t 3.19 & Female & 1\\\\\n",
       "\\end{tabular}\n"
      ],
      "text/markdown": [
       "\n",
       "A grouped_df: 6 × 3\n",
       "\n",
       "| gpa_fy &lt;dbl&gt; | sex &lt;fct&gt; | replicate &lt;int&gt; |\n",
       "|---|---|---|\n",
       "| 2.51 | Male   | 1 |\n",
       "| 2.16 | Female | 1 |\n",
       "| 1.19 | Female | 1 |\n",
       "| 1.78 | Male   | 1 |\n",
       "| 1.90 | Male   | 1 |\n",
       "| 3.19 | Female | 1 |\n",
       "\n"
      ],
      "text/plain": [
       "  gpa_fy sex    replicate\n",
       "1 2.51   Male   1        \n",
       "2 2.16   Female 1        \n",
       "3 1.19   Female 1        \n",
       "4 1.78   Male   1        \n",
       "5 1.90   Male   1        \n",
       "6 3.19   Female 1        "
      ]
     },
     "metadata": {},
     "output_type": "display_data"
    }
   ],
   "source": [
    "gpas_in_null_world = sat_gpa |> \n",
    "  specify(gpa_fy ~ sex) |> \n",
    "  hypothesize(null = \"independence\") |>\n",
    "  generate(reps = 5000, type = 'permute')\n",
    "\n",
    "gpas_in_null_world |> head()"
   ]
  },
  {
   "cell_type": "markdown",
   "id": "40981f4a-37a6-40fe-94c0-fbf746219313",
   "metadata": {},
   "source": [
    "## Q1.c)\n",
    "\n",
    "**Question**:\n",
    "\n",
    "1.  What was the size of the “shuffled” (permuted) sample in each run?\n",
    "2.  How many times did we “shuffle” (permute) the sample? How many rows\n",
    "    are in the `gpas_in_null_world` data frame?\n",
    "\n",
    "**Answer:**\n",
    "\n",
    "1.  1,000.\n",
    "2.  5,000. This makes 5,000,000 records."
   ]
  },
  {
   "cell_type": "markdown",
   "id": "b2f46fdd-2fe3-4e32-a737-1791484fe11e",
   "metadata": {},
   "source": [
    "### Step 3. Calculate the differences between male and females under the null\n",
    "\n",
    "The following calculates the differences in mean GPA for males and\n",
    "females for “shuffled” (permuted) data."
   ]
  },
  {
   "cell_type": "code",
   "execution_count": 8,
   "id": "81db6467-d867-488f-84de-2c6f8c2f3ebc",
   "metadata": {
    "tags": []
   },
   "outputs": [
    {
     "data": {
      "text/html": [
       "<table class=\"dataframe\">\n",
       "<caption>A infer: 6 × 2</caption>\n",
       "<thead>\n",
       "\t<tr><th scope=col>replicate</th><th scope=col>stat</th></tr>\n",
       "\t<tr><th scope=col>&lt;int&gt;</th><th scope=col>&lt;dbl&gt;</th></tr>\n",
       "</thead>\n",
       "<tbody>\n",
       "\t<tr><td>1</td><td> 0.05182187</td></tr>\n",
       "\t<tr><td>2</td><td>-0.01636796</td></tr>\n",
       "\t<tr><td>3</td><td> 0.01598517</td></tr>\n",
       "\t<tr><td>4</td><td> 0.14884121</td></tr>\n",
       "\t<tr><td>5</td><td> 0.01990919</td></tr>\n",
       "\t<tr><td>6</td><td>-0.04063281</td></tr>\n",
       "</tbody>\n",
       "</table>\n"
      ],
      "text/latex": [
       "A infer: 6 × 2\n",
       "\\begin{tabular}{ll}\n",
       " replicate & stat\\\\\n",
       " <int> & <dbl>\\\\\n",
       "\\hline\n",
       "\t 1 &  0.05182187\\\\\n",
       "\t 2 & -0.01636796\\\\\n",
       "\t 3 &  0.01598517\\\\\n",
       "\t 4 &  0.14884121\\\\\n",
       "\t 5 &  0.01990919\\\\\n",
       "\t 6 & -0.04063281\\\\\n",
       "\\end{tabular}\n"
      ],
      "text/markdown": [
       "\n",
       "A infer: 6 × 2\n",
       "\n",
       "| replicate &lt;int&gt; | stat &lt;dbl&gt; |\n",
       "|---|---|\n",
       "| 1 |  0.05182187 |\n",
       "| 2 | -0.01636796 |\n",
       "| 3 |  0.01598517 |\n",
       "| 4 |  0.14884121 |\n",
       "| 5 |  0.01990919 |\n",
       "| 6 | -0.04063281 |\n",
       "\n"
      ],
      "text/plain": [
       "  replicate stat       \n",
       "1 1          0.05182187\n",
       "2 2         -0.01636796\n",
       "3 3          0.01598517\n",
       "4 4          0.14884121\n",
       "5 5          0.01990919\n",
       "6 6         -0.04063281"
      ]
     },
     "metadata": {},
     "output_type": "display_data"
    }
   ],
   "source": [
    "gpa_diff_under_null = gpas_in_null_world |>\n",
    "  calculate(stat = \"diff in means\", order = c(\"Female\", \"Male\")) \n",
    "\n",
    "gpa_diff_under_null |> \n",
    "  head()"
   ]
  },
  {
   "cell_type": "markdown",
   "id": "a518f2cc-360a-47b7-845b-d18bc5c92b59",
   "metadata": {},
   "source": [
    "## Q1.d)\n",
    "\n",
    "**Question**:\n",
    "\n",
    "1.  How many rows are in this data frame? Why?\n",
    "\n",
    "**Answer:**\n",
    "\n",
    "1. 5,000, because this is a statistic calculated for each of the 5,000 perumtated samples. "
   ]
  },
  {
   "cell_type": "markdown",
   "id": "6017b851-4bc1-4dda-a78d-cf93639a6b24",
   "metadata": {},
   "source": [
    "### Step 4. Visualize how the observed difference compares to the null distribution of $\\delta$\n",
    "\n",
    "The following plots the $\\delta$ values we calculated for each of the\n",
    "different “shuffled” replicates. This is the null distribution of\n",
    "$\\delta$. The red line shows the observed difference between male and\n",
    "female scores in the data (-0.1485209) from step 1."
   ]
  },
  {
   "cell_type": "code",
   "execution_count": 9,
   "id": "2a3686c6-4d45-44e4-88eb-c7d14da345c8",
   "metadata": {},
   "outputs": [
    {
     "data": {
      "image/png": "[encoded data removed]",
      "text/plain": [
       "plot without title"
      ]
     },
     "metadata": {
      "image/png": {
       "height": 500,
       "width": 625
      }
     },
     "output_type": "display_data"
    }
   ],
   "source": [
    "visualize(gpa_diff_under_null) +\n",
    "  shade_p_value(obs_stat = obs_diff_gpa_sex, direction = \"both\") +\n",
    "  labs(x = \"Difference in mean GPA for males and females\", y = \"Count\",\n",
    "       title = \"Null distribution of differences in male and female GPAs\",\n",
    "       subtitle = \"Actual difference observed in the data is marked in red\"\n",
    "       )"
   ]
  },
  {
   "cell_type": "markdown",
   "id": "374aae7b-5600-4186-a6e0-f6cd431d88ab",
   "metadata": {},
   "source": [
    "**Note that zero is the center of this null distribution.** The null\n",
    "hypothesis is that there is no difference between males and females in\n",
    "GPA score. In the permutations, zero was the most common difference,\n",
    "because observed GPA values were re-assigned to males and females **at\n",
    "random**. Differences as large as \\~ 0.1 and -0.1 occurred, but much\n",
    "less frequently, because they are just not as likely when structure is\n",
    "removed from the data.\n",
    "\n",
    "### Step 5: Calculate a p-value"
   ]
  },
  {
   "cell_type": "code",
   "execution_count": 10,
   "id": "4145e57b-d098-46ba-96b5-3cb2134247b2",
   "metadata": {},
   "outputs": [
    {
     "data": {
      "text/html": [
       "<table class=\"dataframe\">\n",
       "<caption>A tibble: 1 × 1</caption>\n",
       "<thead>\n",
       "\t<tr><th scope=col>p_value</th></tr>\n",
       "\t<tr><th scope=col>&lt;dbl&gt;</th></tr>\n",
       "</thead>\n",
       "<tbody>\n",
       "\t<tr><td>4e-04</td></tr>\n",
       "</tbody>\n",
       "</table>\n"
      ],
      "text/latex": [
       "A tibble: 1 × 1\n",
       "\\begin{tabular}{l}\n",
       " p\\_value\\\\\n",
       " <dbl>\\\\\n",
       "\\hline\n",
       "\t 4e-04\\\\\n",
       "\\end{tabular}\n"
      ],
      "text/markdown": [
       "\n",
       "A tibble: 1 × 1\n",
       "\n",
       "| p_value &lt;dbl&gt; |\n",
       "|---|\n",
       "| 4e-04 |\n",
       "\n"
      ],
      "text/plain": [
       "  p_value\n",
       "1 4e-04  "
      ]
     },
     "metadata": {},
     "output_type": "display_data"
    }
   ],
   "source": [
    "gpa_diff_under_null %>% \n",
    "  get_pvalue(obs_stat = obs_diff_gpa_sex, direction = \"both\") "
   ]
  },
  {
   "cell_type": "markdown",
   "id": "29a984eb-44a4-42d0-8ab6-64893f85342b",
   "metadata": {},
   "source": [
    "This result indicates that there is a 0.1% chance (very low) chance that\n",
    "we would see a difference of 0.15 in GPA scores between males and\n",
    "females (or a bigger difference) if in fact there was truly no\n",
    "difference between the sexes in GPA scores in the population."
   ]
  },
  {
   "cell_type": "markdown",
   "id": "101373fa-ddee-40ae-8da9-64db35b8c836",
   "metadata": {},
   "source": [
    "## Q1.e)\n",
    "\n",
    "Fill in the blanks below to write up the results & conclusions for this\n",
    "test:\n",
    "\n",
    "The mean GPA scores for females in our sample ($\\bar{x}$ = 2.54)\n",
    "was greater than that of males ($\\bar{x}$ = 2.39). This\n",
    "difference **(was)** statistically significant at\n",
    "$\\alpha = 0.05$, (p = 0.0012). Given this I **(would)** reject the Null hypothesis and conclude that females have\n",
    "higher GPAs than males at the population level."
   ]
  },
  {
   "cell_type": "markdown",
   "id": "1b55bbc1-2399-446f-99e0-5e7e6b86045e",
   "metadata": {},
   "source": [
    "### Step 6: Calculate a confidence interval for the difference\n",
    "\n",
    "The following will allow us to calculate a 95% confidence interval for\n",
    "the difference between mean GPA scores for males and females."
   ]
  },
  {
   "cell_type": "code",
   "execution_count": 11,
   "id": "2bf4102e-ddd6-4c31-bc85-1af89fc9578f",
   "metadata": {},
   "outputs": [
    {
     "data": {
      "text/html": [
       "<table class=\"dataframe\">\n",
       "<caption>A tibble: 1 × 2</caption>\n",
       "<thead>\n",
       "\t<tr><th scope=col>lower_ci</th><th scope=col>upper_ci</th></tr>\n",
       "\t<tr><th scope=col>&lt;dbl&gt;</th><th scope=col>&lt;dbl&gt;</th></tr>\n",
       "</thead>\n",
       "<tbody>\n",
       "\t<tr><td>0.05604315</td><td>0.2431573</td></tr>\n",
       "</tbody>\n",
       "</table>\n"
      ],
      "text/latex": [
       "A tibble: 1 × 2\n",
       "\\begin{tabular}{ll}\n",
       " lower\\_ci & upper\\_ci\\\\\n",
       " <dbl> & <dbl>\\\\\n",
       "\\hline\n",
       "\t 0.05604315 & 0.2431573\\\\\n",
       "\\end{tabular}\n"
      ],
      "text/markdown": [
       "\n",
       "A tibble: 1 × 2\n",
       "\n",
       "| lower_ci &lt;dbl&gt; | upper_ci &lt;dbl&gt; |\n",
       "|---|---|\n",
       "| 0.05604315 | 0.2431573 |\n",
       "\n"
      ],
      "text/plain": [
       "  lower_ci   upper_ci \n",
       "1 0.05604315 0.2431573"
      ]
     },
     "metadata": {},
     "output_type": "display_data"
    }
   ],
   "source": [
    "ci_diff_gpa_means <- sat_gpa %>% \n",
    "  specify(gpa_fy ~ sex) %>%\n",
    "  generate(reps = 5000, type = \"bootstrap\") %>% \n",
    "  calculate(stat = \"diff in means\", order = c(\"Female\", \"Male\")) %>% \n",
    "  get_confidence_interval(level = 0.95)\n",
    "\n",
    "ci_diff_gpa_means"
   ]
  },
  {
   "cell_type": "markdown",
   "id": "7da4f60d-050b-4f35-96cd-7d687f2d7974",
   "metadata": {},
   "source": [
    "## Complete all the above tasks with a t-test\n",
    "\n",
    "Note that all the above steps can be done with one line of code **if a\n",
    "slew of assumptions** like normality and equal variance of the groups\n",
    "are met."
   ]
  },
  {
   "cell_type": "code",
   "execution_count": 12,
   "id": "6f5af819-f628-4a53-87c9-326120cebaba",
   "metadata": {},
   "outputs": [
    {
     "data": {
      "text/plain": [
       "\n",
       "\tTwo Sample t-test\n",
       "\n",
       "data:  gpa_fy by sex\n",
       "t = 3.1828, df = 998, p-value = 0.001504\n",
       "alternative hypothesis: true difference in means between group Female and group Male is not equal to 0\n",
       "95 percent confidence interval:\n",
       " 0.05695029 0.24009148\n",
       "sample estimates:\n",
       "mean in group Female   mean in group Male \n",
       "            2.544587             2.396066 \n"
      ]
     },
     "metadata": {},
     "output_type": "display_data"
    }
   ],
   "source": [
    "t.test(gpa_fy ~ sex, var.equal = TRUE, data = sat_gpa)"
   ]
  },
  {
   "cell_type": "markdown",
   "id": "20f078ee-5e58-4dc5-9688-ea5182384428",
   "metadata": {},
   "source": [
    "## Question 2: Relationship between high-school GPA category and Total SAT score?\n",
    "\n",
    "For this analysis `sat_total` is the outcome variable, and `gpa_hs` is\n",
    "the predictor variable, with two levels “low” and “high”. For this\n",
    "question, let’s use a pre-determined $\\alpha$ significance-level of\n",
    "0.10, which is considered a more liberal significance-level than 0.05\n",
    "since p-values will have an easier time being less than $\\alpha$, and\n",
    "thus we are likely to reject the null hypothesis $H_0$ more often.\n",
    "\n",
    "## Exploratory data analysis\n",
    "\n",
    "We can first calculate the mean total SAT score for each group (i.e\n",
    "students with a low and high GPA), using the `group_by` and `summarize`\n",
    "commands from the `dplyr` package."
   ]
  },
  {
   "cell_type": "code",
   "execution_count": 13,
   "id": "cd06ff3f-e2e6-4971-81f7-a1175a915824",
   "metadata": {},
   "outputs": [
    {
     "data": {
      "text/html": [
       "<table class=\"dataframe\">\n",
       "<caption>A tibble: 2 × 2</caption>\n",
       "<thead>\n",
       "\t<tr><th scope=col>gpa_hs</th><th scope=col>sat_total</th></tr>\n",
       "\t<tr><th scope=col>&lt;chr&gt;</th><th scope=col>&lt;dbl&gt;</th></tr>\n",
       "</thead>\n",
       "<tbody>\n",
       "\t<tr><td>high</td><td>108.67828</td></tr>\n",
       "\t<tr><td>low </td><td> 98.23047</td></tr>\n",
       "</tbody>\n",
       "</table>\n"
      ],
      "text/latex": [
       "A tibble: 2 × 2\n",
       "\\begin{tabular}{ll}\n",
       " gpa\\_hs & sat\\_total\\\\\n",
       " <chr> & <dbl>\\\\\n",
       "\\hline\n",
       "\t high & 108.67828\\\\\n",
       "\t low  &  98.23047\\\\\n",
       "\\end{tabular}\n"
      ],
      "text/markdown": [
       "\n",
       "A tibble: 2 × 2\n",
       "\n",
       "| gpa_hs &lt;chr&gt; | sat_total &lt;dbl&gt; |\n",
       "|---|---|\n",
       "| high | 108.67828 |\n",
       "| low  |  98.23047 |\n",
       "\n"
      ],
      "text/plain": [
       "  gpa_hs sat_total\n",
       "1 high   108.67828\n",
       "2 low     98.23047"
      ]
     },
     "metadata": {},
     "output_type": "display_data"
    }
   ],
   "source": [
    "avg_sat_gpa <- sat_gpa %>% \n",
    "  group_by(gpa_hs) %>% \n",
    "  summarize(sat_total = mean(sat_total))\n",
    "\n",
    "avg_sat_gpa"
   ]
  },
  {
   "cell_type": "markdown",
   "id": "baec68f4-a715-4644-bc40-5b2d4cde9af4",
   "metadata": {},
   "source": [
    "We will next generate a data visualization that displays the total SAT\n",
    "scores of the two groups. Be sure to include a title and label your\n",
    "axes."
   ]
  },
  {
   "cell_type": "code",
   "execution_count": 14,
   "id": "30dd8bf5-c386-43fe-8701-839686656ba2",
   "metadata": {},
   "outputs": [
    {
     "data": {
      "image/png": "[encoded data removed]",
      "text/plain": [
       "plot without title"
      ]
     },
     "metadata": {
      "image/png": {
       "height": 500,
       "width": 625
      }
     },
     "output_type": "display_data"
    }
   ],
   "source": [
    "ggplot(sat_gpa, aes(x = gpa_hs, y = sat_total)) + \n",
    "    geom_point(fill = \"darkgreen\", position = position_jitter(height = 0, width = 0.2), alpha = 0.5, color = 'steelblue') + \n",
    "    stat_summary(geom = 'crossbar', fun = median, color = 'firebrick', linewidth = 0.25, alpha = 0.6) +\n",
    "    labs(title = \"SAT scores based on high school GPA scores\", \n",
    "       x = \"GPA ranking\", y = \"SAT score\")"
   ]
  },
  {
   "cell_type": "markdown",
   "id": "4b358e47-3a60-4032-9b29-714180bfd326",
   "metadata": {},
   "source": [
    "## Stating a null hypothesis"
   ]
  },
  {
   "cell_type": "markdown",
   "id": "75b2984d-392a-4d14-8472-4c90cb0139c6",
   "metadata": {},
   "source": [
    "## Q2.a)\n",
    "\n",
    "State the null hypothesis that you are testing (using either words or\n",
    "symbols)\n",
    "\n",
    "**Answer:**\n",
    "\n",
    "1.  SAT score is independent of high or low gpa values. "
   ]
  },
  {
   "cell_type": "markdown",
   "id": "38f74068-b21f-4212-9047-be54b8f8bbc2",
   "metadata": {},
   "source": [
    "## Testing the hypothesis"
   ]
  },
  {
   "cell_type": "markdown",
   "id": "2c687c67-2f65-4a51-9fbd-d12016c343de",
   "metadata": {},
   "source": [
    "## Q2.b)\n",
    "\n",
    "Calculate the observed difference between the mean total SAT scores of\n",
    "the low and high GPA high-school students."
   ]
  },
  {
   "cell_type": "code",
   "execution_count": 15,
   "id": "872d1b6a-d65d-4c8c-9140-ebda69720131",
   "metadata": {},
   "outputs": [
    {
     "data": {
      "text/html": [
       "<table class=\"dataframe\">\n",
       "<caption>A infer: 1 × 1</caption>\n",
       "<thead>\n",
       "\t<tr><th scope=col>stat</th></tr>\n",
       "\t<tr><th scope=col>&lt;dbl&gt;</th></tr>\n",
       "</thead>\n",
       "<tbody>\n",
       "\t<tr><td>10.44781</td></tr>\n",
       "</tbody>\n",
       "</table>\n"
      ],
      "text/latex": [
       "A infer: 1 × 1\n",
       "\\begin{tabular}{l}\n",
       " stat\\\\\n",
       " <dbl>\\\\\n",
       "\\hline\n",
       "\t 10.44781\\\\\n",
       "\\end{tabular}\n"
      ],
      "text/markdown": [
       "\n",
       "A infer: 1 × 1\n",
       "\n",
       "| stat &lt;dbl&gt; |\n",
       "|---|\n",
       "| 10.44781 |\n",
       "\n"
      ],
      "text/plain": [
       "  stat    \n",
       "1 10.44781"
      ]
     },
     "metadata": {},
     "output_type": "display_data"
    }
   ],
   "source": [
    "obs_diff_sat_hs_gpa <- sat_gpa %>% \n",
    "                        specify(sat_total ~ gpa_hs) %>%\n",
    "                        calculate(stat = 'diff in means', order = c('high','low'))\n",
    "obs_diff_sat_hs_gpa"
   ]
  },
  {
   "cell_type": "markdown",
   "id": "1254fef5-6b22-45a0-9f7e-f282f1dfb963",
   "metadata": {},
   "source": [
    "## Q2.c)\n",
    "\n",
    "Generate the null distribution of $\\delta$. Here you need to generate\n",
    "simulated values *as if* we lived in a world where there’s no difference\n",
    "in SAT scores between high school students with low and high GPAs."
   ]
  },
  {
   "cell_type": "code",
   "execution_count": 16,
   "id": "88bf24dd-4fa4-4e2e-b17f-3250aabe1e9d",
   "metadata": {},
   "outputs": [
    {
     "data": {
      "text/html": [
       "<table class=\"dataframe\">\n",
       "<caption>A grouped_df: 6 × 3</caption>\n",
       "<thead>\n",
       "\t<tr><th scope=col>sat_total</th><th scope=col>gpa_hs</th><th scope=col>replicate</th></tr>\n",
       "\t<tr><th scope=col>&lt;dbl&gt;</th><th scope=col>&lt;fct&gt;</th><th scope=col>&lt;int&gt;</th></tr>\n",
       "</thead>\n",
       "<tbody>\n",
       "\t<tr><td>120</td><td>high</td><td>1</td></tr>\n",
       "\t<tr><td>103</td><td>high</td><td>1</td></tr>\n",
       "\t<tr><td>105</td><td>high</td><td>1</td></tr>\n",
       "\t<tr><td>101</td><td>high</td><td>1</td></tr>\n",
       "\t<tr><td> 75</td><td>high</td><td>1</td></tr>\n",
       "\t<tr><td> 86</td><td>high</td><td>1</td></tr>\n",
       "</tbody>\n",
       "</table>\n"
      ],
      "text/latex": [
       "A grouped\\_df: 6 × 3\n",
       "\\begin{tabular}{lll}\n",
       " sat\\_total & gpa\\_hs & replicate\\\\\n",
       " <dbl> & <fct> & <int>\\\\\n",
       "\\hline\n",
       "\t 120 & high & 1\\\\\n",
       "\t 103 & high & 1\\\\\n",
       "\t 105 & high & 1\\\\\n",
       "\t 101 & high & 1\\\\\n",
       "\t  75 & high & 1\\\\\n",
       "\t  86 & high & 1\\\\\n",
       "\\end{tabular}\n"
      ],
      "text/markdown": [
       "\n",
       "A grouped_df: 6 × 3\n",
       "\n",
       "| sat_total &lt;dbl&gt; | gpa_hs &lt;fct&gt; | replicate &lt;int&gt; |\n",
       "|---|---|---|\n",
       "| 120 | high | 1 |\n",
       "| 103 | high | 1 |\n",
       "| 105 | high | 1 |\n",
       "| 101 | high | 1 |\n",
       "|  75 | high | 1 |\n",
       "|  86 | high | 1 |\n",
       "\n"
      ],
      "text/plain": [
       "  sat_total gpa_hs replicate\n",
       "1 120       high   1        \n",
       "2 103       high   1        \n",
       "3 105       high   1        \n",
       "4 101       high   1        \n",
       "5  75       high   1        \n",
       "6  86       high   1        "
      ]
     },
     "metadata": {},
     "output_type": "display_data"
    }
   ],
   "source": [
    "sat_in_null_world <- sat_gpa |> \n",
    "  specify(sat_total ~ gpa_hs) |> \n",
    "  hypothesize(null = \"independence\") |>\n",
    "  generate(reps = 5000, type = 'permute')\n",
    "\n",
    "sat_in_null_world |> head()"
   ]
  },
  {
   "cell_type": "markdown",
   "id": "b6242ccf-c8f6-4c81-8b50-a9b97c90ecce",
   "metadata": {},
   "source": [
    "## Q2.d)\n",
    "\n",
    "Calculate the differences in mean SAT scores between students with low\n",
    "and high GPA scores under the Null. Note…you should use whatever order\n",
    "you chose above…i.e. `order = c(\"low\", \"high\")` or\n",
    "`order = c(\"high\", \"low\")`."
   ]
  },
  {
   "cell_type": "code",
   "execution_count": 17,
   "id": "30f2684e-b334-40c1-ac3e-efe078c80ccc",
   "metadata": {},
   "outputs": [
    {
     "data": {
      "text/html": [
       "<table class=\"dataframe\">\n",
       "<caption>A infer: 6 × 2</caption>\n",
       "<thead>\n",
       "\t<tr><th scope=col>replicate</th><th scope=col>stat</th></tr>\n",
       "\t<tr><th scope=col>&lt;int&gt;</th><th scope=col>&lt;dbl&gt;</th></tr>\n",
       "</thead>\n",
       "<tbody>\n",
       "\t<tr><td>1</td><td> 0.44204662</td></tr>\n",
       "\t<tr><td>2</td><td> 1.09442239</td></tr>\n",
       "\t<tr><td>3</td><td>-0.37842597</td></tr>\n",
       "\t<tr><td>4</td><td> 0.68618724</td></tr>\n",
       "\t<tr><td>5</td><td>-1.59112449</td></tr>\n",
       "\t<tr><td>6</td><td> 0.03781378</td></tr>\n",
       "</tbody>\n",
       "</table>\n"
      ],
      "text/latex": [
       "A infer: 6 × 2\n",
       "\\begin{tabular}{ll}\n",
       " replicate & stat\\\\\n",
       " <int> & <dbl>\\\\\n",
       "\\hline\n",
       "\t 1 &  0.44204662\\\\\n",
       "\t 2 &  1.09442239\\\\\n",
       "\t 3 & -0.37842597\\\\\n",
       "\t 4 &  0.68618724\\\\\n",
       "\t 5 & -1.59112449\\\\\n",
       "\t 6 &  0.03781378\\\\\n",
       "\\end{tabular}\n"
      ],
      "text/markdown": [
       "\n",
       "A infer: 6 × 2\n",
       "\n",
       "| replicate &lt;int&gt; | stat &lt;dbl&gt; |\n",
       "|---|---|\n",
       "| 1 |  0.44204662 |\n",
       "| 2 |  1.09442239 |\n",
       "| 3 | -0.37842597 |\n",
       "| 4 |  0.68618724 |\n",
       "| 5 | -1.59112449 |\n",
       "| 6 |  0.03781378 |\n",
       "\n"
      ],
      "text/plain": [
       "  replicate stat       \n",
       "1 1          0.44204662\n",
       "2 2          1.09442239\n",
       "3 3         -0.37842597\n",
       "4 4          0.68618724\n",
       "5 5         -1.59112449\n",
       "6 6          0.03781378"
      ]
     },
     "metadata": {},
     "output_type": "display_data"
    }
   ],
   "source": [
    "sat_diff_under_null <- sat_in_null_world |> \n",
    "    calculate(stat = 'diff in means', order = c('high','low'))\n",
    "\n",
    "sat_diff_under_null |> head()"
   ]
  },
  {
   "cell_type": "markdown",
   "id": "b8b3d56f-73b0-4409-89d0-e51353e62232",
   "metadata": {},
   "source": [
    "## Q2.e)\n",
    "\n",
    "Visualize how the observed difference compares to the null distribution\n",
    "of $\\delta$. Generate a histogram of the null distribution, with a\n",
    "vertical red line showing the observed difference in SAT scores between\n",
    "high school students with a high and low GPA."
   ]
  },
  {
   "cell_type": "code",
   "execution_count": 18,
   "id": "872707c3-f9ea-4298-ab90-dca5b3392502",
   "metadata": {},
   "outputs": [
    {
     "data": {
      "image/png": "[encoded data removed]",
      "text/plain": [
       "plot without title"
      ]
     },
     "metadata": {
      "image/png": {
       "height": 500,
       "width": 625
      }
     },
     "output_type": "display_data"
    }
   ],
   "source": [
    "visualize(sat_diff_under_null) +\n",
    "  shade_p_value(obs_stat = obs_diff_sat_hs_gpa, direction = \"both\") +\n",
    "  labs(x = \"Difference in mean GPA for males and females\", y = \"Count\",\n",
    "       title = \"Null distribution of differences in male and female GPAs\",\n",
    "       subtitle = \"Actual difference observed in the data is marked in red\"\n",
    "       )"
   ]
  },
  {
   "cell_type": "markdown",
   "id": "58038c3f-a9bd-451a-8696-2daac4b75808",
   "metadata": {},
   "source": [
    "## Q2.f)\n",
    "\n",
    "Calculate a p-value"
   ]
  },
  {
   "cell_type": "code",
   "execution_count": 19,
   "id": "89346c0d-bf97-4bea-bd41-0ed83ad5f107",
   "metadata": {},
   "outputs": [
    {
     "name": "stderr",
     "output_type": "stream",
     "text": [
      "Warning message:\n",
      "\"\u001b[1m\u001b[22mPlease be cautious in reporting a p-value of 0. This result is an approximation based on the number of `reps` chosen in\n",
      "the `generate()` step.\n",
      "\u001b[36mℹ\u001b[39m See `get_p_value()` (`?infer::get_p_value()`) for more information.\"\n"
     ]
    },
    {
     "data": {
      "text/html": [
       "<table class=\"dataframe\">\n",
       "<caption>A tibble: 1 × 1</caption>\n",
       "<thead>\n",
       "\t<tr><th scope=col>p_value</th></tr>\n",
       "\t<tr><th scope=col>&lt;dbl&gt;</th></tr>\n",
       "</thead>\n",
       "<tbody>\n",
       "\t<tr><td>0</td></tr>\n",
       "</tbody>\n",
       "</table>\n"
      ],
      "text/latex": [
       "A tibble: 1 × 1\n",
       "\\begin{tabular}{l}\n",
       " p\\_value\\\\\n",
       " <dbl>\\\\\n",
       "\\hline\n",
       "\t 0\\\\\n",
       "\\end{tabular}\n"
      ],
      "text/markdown": [
       "\n",
       "A tibble: 1 × 1\n",
       "\n",
       "| p_value &lt;dbl&gt; |\n",
       "|---|\n",
       "| 0 |\n",
       "\n"
      ],
      "text/plain": [
       "  p_value\n",
       "1 0      "
      ]
     },
     "metadata": {},
     "output_type": "display_data"
    }
   ],
   "source": [
    "sat_diff_under_null %>% \n",
    "  get_pvalue(obs_stat = obs_diff_sat_hs_gpa, direction = \"both\") "
   ]
  },
  {
   "cell_type": "markdown",
   "id": "b3339778-498f-471d-ae8d-1cd67524f857",
   "metadata": {},
   "source": [
    "## Q2.g)\n",
    "\n",
    "Write up the results & conclusions for this hypothesis test. Note,\n",
    "p-values less than 0.001 are often reported as p \\< 0.001.\n",
    "\n",
    "**Answer:**\n",
    "\n",
    "1.  "
   ]
  },
  {
   "cell_type": "markdown",
   "id": "6128c93b-c595-46cf-9be3-c1b226058ebb",
   "metadata": {},
   "source": [
    "## Q2.h)\n",
    "\n",
    "Calculate a confidence interval for the difference in total SAT scores\n",
    "for students with high and low high-school GPA scores. Note…you should\n",
    "use whatever order you chose above…i.e. `order = c(\"low\", \"high\")` or\n",
    "`order = c(\"high\", \"low\")`."
   ]
  },
  {
   "cell_type": "code",
   "execution_count": 20,
   "id": "433e077c-e842-495c-8902-06dfb338b6dc",
   "metadata": {},
   "outputs": [
    {
     "data": {
      "text/html": [
       "<table class=\"dataframe\">\n",
       "<caption>A tibble: 1 × 2</caption>\n",
       "<thead>\n",
       "\t<tr><th scope=col>lower_ci</th><th scope=col>upper_ci</th></tr>\n",
       "\t<tr><th scope=col>&lt;dbl&gt;</th><th scope=col>&lt;dbl&gt;</th></tr>\n",
       "</thead>\n",
       "<tbody>\n",
       "\t<tr><td>8.762157</td><td>12.06608</td></tr>\n",
       "</tbody>\n",
       "</table>\n"
      ],
      "text/latex": [
       "A tibble: 1 × 2\n",
       "\\begin{tabular}{ll}\n",
       " lower\\_ci & upper\\_ci\\\\\n",
       " <dbl> & <dbl>\\\\\n",
       "\\hline\n",
       "\t 8.762157 & 12.06608\\\\\n",
       "\\end{tabular}\n"
      ],
      "text/markdown": [
       "\n",
       "A tibble: 1 × 2\n",
       "\n",
       "| lower_ci &lt;dbl&gt; | upper_ci &lt;dbl&gt; |\n",
       "|---|---|\n",
       "| 8.762157 | 12.06608 |\n",
       "\n"
      ],
      "text/plain": [
       "  lower_ci upper_ci\n",
       "1 8.762157 12.06608"
      ]
     },
     "metadata": {},
     "output_type": "display_data"
    }
   ],
   "source": [
    "ci_diff_sat_means <- sat_gpa %>% \n",
    "  specify(sat_total ~ gpa_hs) %>%\n",
    "  generate(reps = 5000, type = \"bootstrap\") %>% \n",
    "  calculate(stat = \"diff in means\", order = c(\"high\", \"low\")) %>% \n",
    "  get_confidence_interval(level = 0.95)\n",
    "ci_diff_sat_means"
   ]
  },
  {
   "cell_type": "markdown",
   "id": "aec65e59-6fb4-48e7-a6c3-7c725555a98f",
   "metadata": {},
   "source": [
    "## Q2.i)\n",
    "\n",
    "Use a t-test to test the null hypothesis that total SAT scores do not\n",
    "differ between students with high and low high school GPA scores at the\n",
    "population level."
   ]
  },
  {
   "cell_type": "code",
   "execution_count": 21,
   "id": "62a220c8-083d-4bc1-9163-516a88f41787",
   "metadata": {},
   "outputs": [
    {
     "data": {
      "text/plain": [
       "\n",
       "\tTwo Sample t-test\n",
       "\n",
       "data:  sat_total by gpa_hs\n",
       "t = 12.413, df = 998, p-value < 2.2e-16\n",
       "alternative hypothesis: true difference in means between group high and group low is not equal to 0\n",
       "95 percent confidence interval:\n",
       "  8.79614 12.09948\n",
       "sample estimates:\n",
       "mean in group high  mean in group low \n",
       "         108.67828           98.23047 \n"
      ]
     },
     "metadata": {},
     "output_type": "display_data"
    }
   ],
   "source": [
    "t.test(sat_total ~ gpa_hs, var.equal = TRUE, data = sat_gpa)"
   ]
  },
  {
   "cell_type": "code",
   "execution_count": null,
   "id": "cb67d6ad-f593-4a93-8306-e20274bc40c3",
   "metadata": {},
   "outputs": [],
   "source": []
  }
 ],
 "metadata": {
  "kernelspec": {
   "display_name": "R",
   "language": "R",
   "name": "ir"
  },
  "language_info": {
   "codemirror_mode": "r",
   "file_extension": ".r",
   "mimetype": "text/x-r-source",
   "name": "R",
   "pygments_lexer": "r",
   "version": "4.3.2"
  }
 },
 "nbformat": 4,
 "nbformat_minor": 5
}
